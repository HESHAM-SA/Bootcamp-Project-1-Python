{
 "cells": [
  {
   "cell_type": "code",
   "execution_count": 1,
   "id": "a5cd602c",
   "metadata": {},
   "outputs": [
    {
     "name": "stdout",
     "output_type": "stream",
     "text": [
      "How many players want to play ? : 2\n",
      "Enter range namber you want to gusse from 1 to ... : 20\n",
      "Enter your name: Hesham\n",
      "Try 1 : 10\n",
      "Higher\n",
      "Try 2 : 15\n",
      "Win\n",
      "Hesham: Your missed tries is: 1\n",
      "Enter your name: Ali\n",
      "Try 1 : 10\n",
      "Lower\n",
      "you are in range 10 digit\n",
      "Try 2 : 5\n",
      "Higher\n",
      "you are in range 10 digit\n",
      "Try 3 : 7\n",
      "Lower\n",
      "you are in range 10 digit\n",
      "Try 4 : 6\n",
      "Win\n",
      "Hesham: Your missed tries is: 1\n",
      "Ali: Your missed tries is: 3\n",
      "Do you want to repeat a game ?  no\n"
     ]
    }
   ],
   "source": [
    "import random\n",
    "while True:\n",
    "    players = int(input('How many players want to play ? : '))\n",
    "    Number = int(input(\"Enter range namber you want to gusse from 1 to ... : \"))\n",
    "    score_players_record = {}\n",
    "    \n",
    "    for i in range(players):    \n",
    "        Name = input(\"Enter your name: \")\n",
    "        range_list = []\n",
    "\n",
    "        def fill_list(Number):\n",
    "            for index in range(Number):\n",
    "                range_list.append(index+1)\n",
    "            return range_list\n",
    "\n",
    "\n",
    "        fill_list(Number)\n",
    "        x = random.choice(range_list)\n",
    "        \n",
    "       # print(f\"the secret number is : {x}\")\n",
    "        for t in range(Number+1):\n",
    "            user_try = int(input(f'Try {t+1} : '))\n",
    "            if user_try == x:\n",
    "                print('Win')\n",
    "                time_trying = t\n",
    "                score_players_record[Name]= f'Your missed tries is: {time_trying}'\n",
    "                sorted_dict_by_values = dict(sorted(score_players_record.items(), key=lambda item: item[1]))\n",
    "                \n",
    "                for key, value in sorted_dict_by_values.items():\n",
    "                    print(f'{key}: {value}')\n",
    "                break\n",
    "                \n",
    "            elif user_try > x :\n",
    "                print('Lower')\n",
    "                if x + 5 > user_try > x - 5:\n",
    "                    print('you are in range 10 digit')\n",
    "            elif user_try < x :\n",
    "                print('Higher')\n",
    "                if x + 5 > user_try > x - 5:\n",
    "                    print('you are in range 10 digit')\n",
    "\n",
    "\n",
    "    \n",
    "    repeat = input('Do you want to repeat a game ?  ')\n",
    "    if repeat == 'yes':\n",
    "        continue\n",
    "    else:\n",
    "        break\n",
    "\n",
    "\n",
    "\n",
    "\n",
    "    "
   ]
  },
  {
   "cell_type": "code",
   "execution_count": null,
   "id": "71028f53",
   "metadata": {},
   "outputs": [],
   "source": []
  },
  {
   "cell_type": "code",
   "execution_count": null,
   "id": "84f5e81e",
   "metadata": {},
   "outputs": [],
   "source": []
  },
  {
   "cell_type": "code",
   "execution_count": null,
   "id": "80162e5c",
   "metadata": {},
   "outputs": [],
   "source": []
  },
  {
   "cell_type": "code",
   "execution_count": null,
   "id": "61450766",
   "metadata": {},
   "outputs": [],
   "source": []
  },
  {
   "cell_type": "code",
   "execution_count": null,
   "id": "be8831c7",
   "metadata": {},
   "outputs": [],
   "source": []
  },
  {
   "cell_type": "code",
   "execution_count": null,
   "id": "d01315be",
   "metadata": {},
   "outputs": [],
   "source": []
  },
  {
   "cell_type": "code",
   "execution_count": null,
   "id": "76428b10",
   "metadata": {},
   "outputs": [],
   "source": []
  },
  {
   "cell_type": "code",
   "execution_count": null,
   "id": "7a3baa3d",
   "metadata": {},
   "outputs": [],
   "source": []
  }
 ],
 "metadata": {
  "kernelspec": {
   "display_name": "Python 3 (ipykernel)",
   "language": "python",
   "name": "python3"
  },
  "language_info": {
   "codemirror_mode": {
    "name": "ipython",
    "version": 3
   },
   "file_extension": ".py",
   "mimetype": "text/x-python",
   "name": "python",
   "nbconvert_exporter": "python",
   "pygments_lexer": "ipython3",
   "version": "3.10.9"
  }
 },
 "nbformat": 4,
 "nbformat_minor": 5
}
